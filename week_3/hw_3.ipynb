{
 "cells": [
  {
   "cell_type": "markdown",
   "metadata": {},
   "source": [
    "# Computational Cognitive Neuroscience - Homework 3\n",
    "**Start date: 8th February 2021**\n",
    "\n",
    "**Due date: 15th February 2021**\n",
    "\n",
    "This homework set focuses and expands upon the chapters 1, 2 and 3 of the NIS [book](https://www.cs.helsinki.fi/u/ahyvarin/natimgsx/nis_preprintFeb2009.pdf).\n",
    "\n",
    "## Submission instructions\n",
    "Submission is by email to hermanni.halva@helsinki.fi. Follow these instructions to submit:  \n",
    "1. Title of the email: \"ccn homework 2 - student_number\"\n",
    "2. When you have completed the exercises, save the notebook. Attach it to the email.\n",
    "3. Also download a pdf of the notebook and attach it.\n",
    "\n",
    "## IMPORTANT\n",
    "1. Don't share your code and answers with others.\n",
    "2. It's your responsibility to ensure that the notebook has fully finished running all the cells, all the plots view properly etc. before submitting it. I will not re-run any code.\n",
    "3. Submit your work by the deadline.\n",
    "4. If you are confused, think there is a mistake or find things too difficult, just ask on github\n",
    "5. If you need help with code, email it to me and I'll have a look"
   ]
  },
  {
   "cell_type": "code",
   "execution_count": null,
   "metadata": {},
   "outputs": [],
   "source": [
    "# set-up -- do not change\n",
    "import numpy as np\n",
    "import matplotlib.pyplot as plt\n",
    "np.random.seed(1)"
   ]
  },
  {
   "cell_type": "markdown",
   "metadata": {},
   "source": [
    "# Question 1 [10 pts]\n",
    "\n",
    "The orthogonality of the Fourier basis is based on the following kinds of properties \n",
    "\\begin{align}\n",
    "    \\int_{-\\pi}^{\\pi} \\sin x \\cos x dx &= 0  \\\\\n",
    "    \\int_{-\\pi}^{\\pi} \\sin x \\sin 2x dx &= 0\n",
    "\\end{align}\n",
    "where we can interpret the integrals as continuous valued dot products. **Your task is to**:\n",
    "1. plot these functions below\n",
    "2. explain why both integrals are equal to zero."
   ]
  },
  {
   "cell_type": "code",
   "execution_count": null,
   "metadata": {
    "scrolled": true
   },
   "outputs": [],
   "source": [
    "#! [[IMPLEMENT: plot and explanation]]"
   ]
  },
  {
   "cell_type": "markdown",
   "metadata": {},
   "source": [
    "# Question 2 [15 pts]\n",
    "\n",
    "This question is about representation of the receptive field in 2D. **Your task is to:**\n",
    "1. Define a 100x100 receptive field $W$ that corresponds to 2D fourier basis vector like in Fig 2.7b). Plot this receptive field.\n",
    "2. Repeat above but for a Gabor filter Fig 3.11a) -- play with parameters to get your plot as close as possible to this figure. Produce also an image stimulus $I$ which is a Gabor function but use different parameters here.\n",
    "3. Define function that computes the dot-product between $W$ and $I$ as in Equation (3.1). Illustrate that the function works appropriately.\n"
   ]
  },
  {
   "cell_type": "code",
   "execution_count": null,
   "metadata": {},
   "outputs": [],
   "source": [
    "#! [[IMPLEMENTION HERE]]\n",
    "\n",
    "# HINT: np.meshgrid may be useful\n",
    "\n",
    "# example for plotting\n",
    "img=plt.imshow(W)\n",
    "img.set_cmap(’grayscale’)\n",
    "plt.show()"
   ]
  },
  {
   "cell_type": "markdown",
   "metadata": {},
   "source": [
    "# Question 3 [20 pts]\n",
    "This consists of written and coding parts.\n",
    "\n",
    "**Written part**\n",
    "1. Assume a visual neuron is linear. Stimulus A does not elicit any (non-zero) response. Stimulus B does not elicit any response either. Is it possible that the superimposed stimulus A+B elicits a response? \n",
    "\n",
    "2. Assume a visual neuron follows the nonlinear model of section 3.4.1, with Equations (3.3) and (3.6). Assume again that Stimulus A does not elicit any response, and Stimulus B does not elicit any response either. Is it possible that the superimposed stimulus A+B elicits a response? \n",
    "\n",
    "3. Assume Stimulus A elicits no reponse, but Stimulus B does elicit a response. What can we say about Stimulus A+B, for the two models considered above?\n",
    "\n",
    "**Coding part**\\\n",
    "For each of the above three cases, produce appropriate A and B in the form of Gabor functions and taking W as given (hint: use W from Question 2.2 above if you dont wish to redefine it). Produce numerical results to corroborate your written answers.\n"
   ]
  },
  {
   "cell_type": "code",
   "execution_count": null,
   "metadata": {},
   "outputs": [],
   "source": [
    "#! [[IMPLEMENT CODE HERE]]"
   ]
  },
  {
   "cell_type": "markdown",
   "metadata": {},
   "source": [
    "# Question 4 [10 pts]\n",
    "This is a written exercise so no coding here. Answer the following questions and show your working below:\n",
    "1. Show that convolution is a symmetric operation i.e. $f*g=g*f$\n",
    "2. Derive equation (2.3) in the NIS book\n",
    "3. Prove equation (2.17) in the NIS book"
   ]
  }
 ],
 "metadata": {
  "kernelspec": {
   "display_name": "Python 3",
   "language": "python",
   "name": "python3"
  },
  "language_info": {
   "codemirror_mode": {
    "name": "ipython",
    "version": 3
   },
   "file_extension": ".py",
   "mimetype": "text/x-python",
   "name": "python",
   "nbconvert_exporter": "python",
   "pygments_lexer": "ipython3",
   "version": "3.7.5"
  }
 },
 "nbformat": 4,
 "nbformat_minor": 4
}
